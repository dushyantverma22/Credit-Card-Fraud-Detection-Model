{
 "cells": [
  {
   "cell_type": "code",
   "execution_count": 1,
   "id": "8b51cef8",
   "metadata": {},
   "outputs": [],
   "source": [
    "import pandas as pd"
   ]
  },
  {
   "cell_type": "code",
   "execution_count": 2,
   "id": "c505c33e",
   "metadata": {},
   "outputs": [
    {
     "name": "stderr",
     "output_type": "stream",
     "text": [
      "d:\\Data_analytics_new\\Sub5_Machine_Learning\\Credit-Card-Fraud-Detection-Model\\venv\\Lib\\site-packages\\tqdm\\auto.py:21: TqdmWarning: IProgress not found. Please update jupyter and ipywidgets. See https://ipywidgets.readthedocs.io/en/stable/user_install.html\n",
      "  from .autonotebook import tqdm as notebook_tqdm\n"
     ]
    },
    {
     "name": "stdout",
     "output_type": "stream",
     "text": [
      "Downloading from https://www.kaggle.com/api/v1/datasets/download/kartik2112/fraud-detection?dataset_version_number=1...\n"
     ]
    },
    {
     "name": "stderr",
     "output_type": "stream",
     "text": [
      "100%|██████████| 202M/202M [00:17<00:00, 12.2MB/s] "
     ]
    },
    {
     "name": "stdout",
     "output_type": "stream",
     "text": [
      "Extracting files...\n"
     ]
    },
    {
     "name": "stderr",
     "output_type": "stream",
     "text": [
      "\n"
     ]
    },
    {
     "name": "stdout",
     "output_type": "stream",
     "text": [
      "Path to dataset files: C:\\Users\\Oliver\\.cache\\kagglehub\\datasets\\kartik2112\\fraud-detection\\versions\\1\n"
     ]
    }
   ],
   "source": [
    "import kagglehub\n",
    "\n",
    "# Download latest version\n",
    "path = kagglehub.dataset_download(\"kartik2112/fraud-detection\")\n",
    "\n",
    "print(\"Path to dataset files:\", path)"
   ]
  },
  {
   "cell_type": "code",
   "execution_count": 2,
   "id": "6d6f95f0",
   "metadata": {},
   "outputs": [
    {
     "name": "stdout",
     "output_type": "stream",
     "text": [
      "Error: Your default credentials were not found. To set up Application Default Credentials, see https://cloud.google.com/docs/authentication/external/set-up-adc for more information.\n"
     ]
    }
   ],
   "source": [
    "from google.cloud import storage\n",
    "from pathlib import Path\n",
    "from google.cloud.exceptions import GoogleCloudError\n",
    "\n",
    "def upload_directory_to_gcs(bucket_name, source_dir, destination_prefix=\"\"):\n",
    "    \"\"\"Uploads all files in a directory to Google Cloud Storage\"\"\"\n",
    "    try:\n",
    "        # Initialize the storage client\n",
    "        storage_client = storage.Client()\n",
    "        bucket = storage_client.bucket(bucket_name)\n",
    "        \n",
    "        # Ensure the source directory exists\n",
    "        source_path = Path(source_dir)\n",
    "        if not source_path.exists():\n",
    "            raise FileNotFoundError(f\"Directory not found: {source_dir}\")\n",
    "            \n",
    "        # Upload each file\n",
    "        for file_path in source_path.glob('*'):\n",
    "            if file_path.is_file():\n",
    "                blob_name = f\"{destination_prefix}/{file_path.name}\" if destination_prefix else file_path.name\n",
    "                blob = bucket.blob(blob_name)\n",
    "                blob.upload_from_filename(str(file_path))\n",
    "                print(f\"Uploaded {file_path} to gs://{bucket_name}/{blob_name}\")\n",
    "                \n",
    "    except GoogleCloudError as e:\n",
    "        print(f\"Google Cloud Error: {str(e)}\")\n",
    "    except Exception as e:\n",
    "        print(f\"Error: {str(e)}\")\n",
    "\n",
    "# Usage\n",
    "upload_directory_to_gcs(\n",
    "    bucket_name=\"frauddetect12\",\n",
    "    source_dir=r\"C:\\Users\\Oliver\\.cache\\kagglehub\\datasets\\kartik2112\\fraud-detection\\versions\\1\",\n",
    "    destination_prefix=\"data\"\n",
    ")"
   ]
  },
  {
   "cell_type": "code",
   "execution_count": null,
   "id": "ea372a44",
   "metadata": {},
   "outputs": [],
   "source": []
  }
 ],
 "metadata": {
  "kernelspec": {
   "display_name": "venv",
   "language": "python",
   "name": "python3"
  },
  "language_info": {
   "codemirror_mode": {
    "name": "ipython",
    "version": 3
   },
   "file_extension": ".py",
   "mimetype": "text/x-python",
   "name": "python",
   "nbconvert_exporter": "python",
   "pygments_lexer": "ipython3",
   "version": "3.11.3"
  }
 },
 "nbformat": 4,
 "nbformat_minor": 5
}
