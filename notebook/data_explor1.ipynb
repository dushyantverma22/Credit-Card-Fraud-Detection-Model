{
 "cells": [
  {
   "cell_type": "markdown",
   "id": "cd88bd0c",
   "metadata": {},
   "source": [
    "### Load all the liberaries"
   ]
  },
  {
   "cell_type": "code",
   "execution_count": 2,
   "id": "8983b280",
   "metadata": {},
   "outputs": [],
   "source": [
    "import pandas as pd\n",
    "import numpy as np\n",
    "import matplotlib.pyplot as plt\n",
    "import seaborn as sns"
   ]
  },
  {
   "cell_type": "markdown",
   "id": "2157cf98",
   "metadata": {},
   "source": [
    "### Load the Data set"
   ]
  },
  {
   "cell_type": "code",
   "execution_count": 3,
   "id": "2489d959",
   "metadata": {},
   "outputs": [],
   "source": [
    "data = pd.read_csv(r\"D:\\Data_analytics_new\\Sub5_Machine_Learning\\Credit-Card-Fraud-Detection-Model1\\data\\cleaned_data\\train_raw1.csv\")"
   ]
  },
  {
   "cell_type": "code",
   "execution_count": 4,
   "id": "57f2e149",
   "metadata": {},
   "outputs": [],
   "source": [
    "data.drop(columns=\"Unnamed: 0\", axis=1, inplace=True)"
   ]
  },
  {
   "cell_type": "code",
   "execution_count": 5,
   "id": "540625cf",
   "metadata": {},
   "outputs": [
    {
     "data": {
      "text/html": [
       "<div>\n",
       "<style scoped>\n",
       "    .dataframe tbody tr th:only-of-type {\n",
       "        vertical-align: middle;\n",
       "    }\n",
       "\n",
       "    .dataframe tbody tr th {\n",
       "        vertical-align: top;\n",
       "    }\n",
       "\n",
       "    .dataframe thead th {\n",
       "        text-align: right;\n",
       "    }\n",
       "</style>\n",
       "<table border=\"1\" class=\"dataframe\">\n",
       "  <thead>\n",
       "    <tr style=\"text-align: right;\">\n",
       "      <th></th>\n",
       "      <th>trans_num</th>\n",
       "      <th>trans_date</th>\n",
       "      <th>time_bucket</th>\n",
       "      <th>cc_num</th>\n",
       "      <th>amount_bkt</th>\n",
       "      <th>category</th>\n",
       "      <th>gender</th>\n",
       "      <th>state</th>\n",
       "      <th>latitudinal_distance</th>\n",
       "      <th>longitudinal_distance</th>\n",
       "      <th>population_bkt</th>\n",
       "      <th>age</th>\n",
       "      <th>is_fraud</th>\n",
       "    </tr>\n",
       "  </thead>\n",
       "  <tbody>\n",
       "    <tr>\n",
       "      <th>0</th>\n",
       "      <td>0b242abb623afc578575680df30655b9</td>\n",
       "      <td>2019-01-01</td>\n",
       "      <td>12AM-6AM</td>\n",
       "      <td>CN - 2703186189652095</td>\n",
       "      <td>less than 5 dollar</td>\n",
       "      <td>misc_net</td>\n",
       "      <td>F</td>\n",
       "      <td>NC</td>\n",
       "      <td>0.068</td>\n",
       "      <td>0.870</td>\n",
       "      <td>Medium_pop</td>\n",
       "      <td>31</td>\n",
       "      <td>0</td>\n",
       "    </tr>\n",
       "    <tr>\n",
       "      <th>1</th>\n",
       "      <td>1f76529f8574734946361c461b024d99</td>\n",
       "      <td>2019-01-01</td>\n",
       "      <td>12AM-6AM</td>\n",
       "      <td>CN - 630423337322</td>\n",
       "      <td>b/w 80 to 150 dollar</td>\n",
       "      <td>grocery_pos</td>\n",
       "      <td>F</td>\n",
       "      <td>WA</td>\n",
       "      <td>0.271</td>\n",
       "      <td>0.024</td>\n",
       "      <td>Low_pop</td>\n",
       "      <td>41</td>\n",
       "      <td>0</td>\n",
       "    </tr>\n",
       "  </tbody>\n",
       "</table>\n",
       "</div>"
      ],
      "text/plain": [
       "                          trans_num  trans_date time_bucket  \\\n",
       "0  0b242abb623afc578575680df30655b9  2019-01-01    12AM-6AM   \n",
       "1  1f76529f8574734946361c461b024d99  2019-01-01    12AM-6AM   \n",
       "\n",
       "                  cc_num            amount_bkt     category gender state  \\\n",
       "0  CN - 2703186189652095    less than 5 dollar     misc_net      F    NC   \n",
       "1      CN - 630423337322  b/w 80 to 150 dollar  grocery_pos      F    WA   \n",
       "\n",
       "   latitudinal_distance  longitudinal_distance population_bkt  age  is_fraud  \n",
       "0                 0.068                  0.870     Medium_pop   31         0  \n",
       "1                 0.271                  0.024        Low_pop   41         0  "
      ]
     },
     "execution_count": 5,
     "metadata": {},
     "output_type": "execute_result"
    }
   ],
   "source": [
    "data.head(2)"
   ]
  },
  {
   "cell_type": "markdown",
   "id": "49d5a6dd",
   "metadata": {},
   "source": [
    "### Multivariate Analysis"
   ]
  },
  {
   "cell_type": "markdown",
   "id": "720a6706",
   "metadata": {},
   "source": [
    "1. Time bucket vs Fraud"
   ]
  },
  {
   "cell_type": "code",
   "execution_count": 6,
   "id": "5014258d",
   "metadata": {},
   "outputs": [
    {
     "name": "stdout",
     "output_type": "stream",
     "text": [
      "is_fraud          0     1\n",
      "time_bucket              \n",
      "12AM-6AM     252197  2633\n",
      "12PM-6PM     391557   466\n",
      "6AM-12PM     253272   274\n",
      "6PM-12AM     392143  4133\n",
      "time_bucket\n",
      "12AM-6AM    1.033238\n",
      "12PM-6PM    0.118871\n",
      "6AM-12PM    0.108067\n",
      "6PM-12AM    1.042960\n",
      "dtype: float64\n"
     ]
    }
   ],
   "source": [
    "fraud_by_time = data.groupby(['time_bucket','is_fraud']).size().unstack(fill_value=0)\n",
    "print(fraud_by_time)\n",
    "\n",
    "## percentage analysis\n",
    "total_cases = data.groupby('time_bucket').size()\n",
    "fraud_perc = (data[data[\"is_fraud\"]==1].groupby('time_bucket').size()/total_cases) * 100\n",
    "print(fraud_perc)"
   ]
  },
  {
   "cell_type": "code",
   "execution_count": 7,
   "id": "5fb5c908",
   "metadata": {},
   "outputs": [
    {
     "data": {
      "image/png": "[encoded data removed]",
      "text/plain": [
       "<Figure size 1000x600 with 1 Axes>"
      ]
     },
     "metadata": {},
     "output_type": "display_data"
    }
   ],
   "source": [
    "### Maximum Fraud Transactons occurs at time bucket of 12 AM - 6 AM and 6 PM - 12 AM\n",
    "\n",
    "### Visualization\n",
    "\n",
    "plt.figure(figsize=(10,6))\n",
    "\n",
    "# Bar plot for percentages\n",
    "plt.subplot(1, 2, 2)\n",
    "fraud_perc.plot(kind='bar', color='orange')\n",
    "plt.title('Fraud Percentage by Time Bucket')\n",
    "plt.xlabel('Time Bucket')\n",
    "plt.ylabel('Percentage (%)')\n",
    "plt.xticks(rotation=45)\n",
    "\n",
    "plt.tight_layout()\n",
    "plt.show()"
   ]
  },
  {
   "cell_type": "code",
   "execution_count": 8,
   "id": "8b4f6f87",
   "metadata": {},
   "outputs": [
    {
     "name": "stderr",
     "output_type": "stream",
     "text": [
      "c:\\Users\\Oliver\\anaconda4\\Lib\\site-packages\\seaborn\\_oldcore.py:1498: FutureWarning: is_categorical_dtype is deprecated and will be removed in a future version. Use isinstance(dtype, CategoricalDtype) instead\n",
      "  if pd.api.types.is_categorical_dtype(vector):\n",
      "c:\\Users\\Oliver\\anaconda4\\Lib\\site-packages\\seaborn\\_oldcore.py:1498: FutureWarning: is_categorical_dtype is deprecated and will be removed in a future version. Use isinstance(dtype, CategoricalDtype) instead\n",
      "  if pd.api.types.is_categorical_dtype(vector):\n",
      "c:\\Users\\Oliver\\anaconda4\\Lib\\site-packages\\seaborn\\_oldcore.py:1498: FutureWarning: is_categorical_dtype is deprecated and will be removed in a future version. Use isinstance(dtype, CategoricalDtype) instead\n",
      "  if pd.api.types.is_categorical_dtype(vector):\n",
      "c:\\Users\\Oliver\\anaconda4\\Lib\\site-packages\\seaborn\\_oldcore.py:1498: FutureWarning: is_categorical_dtype is deprecated and will be removed in a future version. Use isinstance(dtype, CategoricalDtype) instead\n",
      "  if pd.api.types.is_categorical_dtype(vector):\n"
     ]
    },
    {
     "data": {
      "text/plain": [
       "(array([0, 1, 2, 3]),\n",
       " [Text(0, 0, '12AM-6AM'),\n",
       "  Text(1, 0, '6AM-12PM'),\n",
       "  Text(2, 0, '12PM-6PM'),\n",
       "  Text(3, 0, '6PM-12AM')])"
      ]
     },
     "execution_count": 8,
     "metadata": {},
     "output_type": "execute_result"
    },
    {
     "data": {
      "image/png": "[encoded data removed]",
      "text/plain": [
       "<Figure size 640x480 with 1 Axes>"
      ]
     },
     "metadata": {},
     "output_type": "display_data"
    }
   ],
   "source": [
    "# Bar plot for counts\n",
    "plt.subplot(1, 2, 1)\n",
    "sns.countplot(data=data, x='time_bucket', hue='is_fraud', palette={0: 'green', 1: 'red'})\n",
    "plt.title('Fraud vs Non-Fraud Cases by Time Bucket')\n",
    "plt.xlabel('Time Bucket')\n",
    "plt.ylabel('Count')\n",
    "plt.legend(title='Fraud', labels=['Non-Fraud (0)', 'Fraud (1)'])\n",
    "plt.xticks(rotation=45)"
   ]
  },
  {
   "cell_type": "code",
   "execution_count": 9,
   "id": "43653577",
   "metadata": {},
   "outputs": [
    {
     "data": {
      "text/html": [
       "<div>\n",
       "<style scoped>\n",
       "    .dataframe tbody tr th:only-of-type {\n",
       "        vertical-align: middle;\n",
       "    }\n",
       "\n",
       "    .dataframe tbody tr th {\n",
       "        vertical-align: top;\n",
       "    }\n",
       "\n",
       "    .dataframe thead th {\n",
       "        text-align: right;\n",
       "    }\n",
       "</style>\n",
       "<table border=\"1\" class=\"dataframe\">\n",
       "  <thead>\n",
       "    <tr style=\"text-align: right;\">\n",
       "      <th></th>\n",
       "      <th>trans_num</th>\n",
       "      <th>trans_date</th>\n",
       "      <th>time_bucket</th>\n",
       "      <th>cc_num</th>\n",
       "      <th>amount_bkt</th>\n",
       "      <th>category</th>\n",
       "      <th>gender</th>\n",
       "      <th>state</th>\n",
       "      <th>latitudinal_distance</th>\n",
       "      <th>longitudinal_distance</th>\n",
       "      <th>population_bkt</th>\n",
       "      <th>age</th>\n",
       "      <th>is_fraud</th>\n",
       "    </tr>\n",
       "  </thead>\n",
       "  <tbody>\n",
       "    <tr>\n",
       "      <th>0</th>\n",
       "      <td>0b242abb623afc578575680df30655b9</td>\n",
       "      <td>2019-01-01</td>\n",
       "      <td>12AM-6AM</td>\n",
       "      <td>CN - 2703186189652095</td>\n",
       "      <td>less than 5 dollar</td>\n",
       "      <td>misc_net</td>\n",
       "      <td>F</td>\n",
       "      <td>NC</td>\n",
       "      <td>0.068</td>\n",
       "      <td>0.870</td>\n",
       "      <td>Medium_pop</td>\n",
       "      <td>31</td>\n",
       "      <td>0</td>\n",
       "    </tr>\n",
       "    <tr>\n",
       "      <th>1</th>\n",
       "      <td>1f76529f8574734946361c461b024d99</td>\n",
       "      <td>2019-01-01</td>\n",
       "      <td>12AM-6AM</td>\n",
       "      <td>CN - 630423337322</td>\n",
       "      <td>b/w 80 to 150 dollar</td>\n",
       "      <td>grocery_pos</td>\n",
       "      <td>F</td>\n",
       "      <td>WA</td>\n",
       "      <td>0.271</td>\n",
       "      <td>0.024</td>\n",
       "      <td>Low_pop</td>\n",
       "      <td>41</td>\n",
       "      <td>0</td>\n",
       "    </tr>\n",
       "  </tbody>\n",
       "</table>\n",
       "</div>"
      ],
      "text/plain": [
       "                          trans_num  trans_date time_bucket  \\\n",
       "0  0b242abb623afc578575680df30655b9  2019-01-01    12AM-6AM   \n",
       "1  1f76529f8574734946361c461b024d99  2019-01-01    12AM-6AM   \n",
       "\n",
       "                  cc_num            amount_bkt     category gender state  \\\n",
       "0  CN - 2703186189652095    less than 5 dollar     misc_net      F    NC   \n",
       "1      CN - 630423337322  b/w 80 to 150 dollar  grocery_pos      F    WA   \n",
       "\n",
       "   latitudinal_distance  longitudinal_distance population_bkt  age  is_fraud  \n",
       "0                 0.068                  0.870     Medium_pop   31         0  \n",
       "1                 0.271                  0.024        Low_pop   41         0  "
      ]
     },
     "execution_count": 9,
     "metadata": {},
     "output_type": "execute_result"
    }
   ],
   "source": [
    "data.head(2)"
   ]
  },
  {
   "cell_type": "markdown",
   "id": "02df8a23",
   "metadata": {},
   "source": [
    "2. amount vs Fraud"
   ]
  },
  {
   "cell_type": "code",
   "execution_count": 10,
   "id": "2e809c7a",
   "metadata": {},
   "outputs": [
    {
     "name": "stdout",
     "output_type": "stream",
     "text": [
      "is_fraud                   0     1\n",
      "amount_bkt                        \n",
      "b/w 10 to 40 dollar   245420  1036\n",
      "b/w 40 to 60 dollar   186547    85\n",
      "b/w 5 to 10 dollar    172874   500\n",
      "b/w 60 to 80 dollar   181879     0\n",
      "b/w 80 to 150 dollar  238415   151\n",
      "less than 5 dollar    162530    25\n",
      "more than 150 dollar  101504  5709\n",
      "amount_bkt\n",
      "b/w 10 to 40 dollar     0.420359\n",
      "b/w 40 to 60 dollar     0.045544\n",
      "b/w 5 to 10 dollar      0.288394\n",
      "b/w 60 to 80 dollar          NaN\n",
      "b/w 80 to 150 dollar    0.063295\n",
      "less than 5 dollar      0.015379\n",
      "more than 150 dollar    5.324914\n",
      "dtype: float64\n"
     ]
    },
    {
     "name": "stderr",
     "output_type": "stream",
     "text": [
      "c:\\Users\\Oliver\\anaconda4\\Lib\\site-packages\\seaborn\\_oldcore.py:1498: FutureWarning: is_categorical_dtype is deprecated and will be removed in a future version. Use isinstance(dtype, CategoricalDtype) instead\n",
      "  if pd.api.types.is_categorical_dtype(vector):\n",
      "c:\\Users\\Oliver\\anaconda4\\Lib\\site-packages\\seaborn\\_oldcore.py:1498: FutureWarning: is_categorical_dtype is deprecated and will be removed in a future version. Use isinstance(dtype, CategoricalDtype) instead\n",
      "  if pd.api.types.is_categorical_dtype(vector):\n",
      "c:\\Users\\Oliver\\anaconda4\\Lib\\site-packages\\seaborn\\_oldcore.py:1498: FutureWarning: is_categorical_dtype is deprecated and will be removed in a future version. Use isinstance(dtype, CategoricalDtype) instead\n",
      "  if pd.api.types.is_categorical_dtype(vector):\n",
      "c:\\Users\\Oliver\\anaconda4\\Lib\\site-packages\\seaborn\\_oldcore.py:1498: FutureWarning: is_categorical_dtype is deprecated and will be removed in a future version. Use isinstance(dtype, CategoricalDtype) instead\n",
      "  if pd.api.types.is_categorical_dtype(vector):\n"
     ]
    },
    {
     "data": {
      "text/plain": [
       "(array([0, 1, 2, 3, 4, 5, 6]),\n",
       " [Text(0, 0, 'less than 5 dollar'),\n",
       "  Text(1, 0, 'b/w 80 to 150 dollar'),\n",
       "  Text(2, 0, 'more than 150 dollar'),\n",
       "  Text(3, 0, 'b/w 40 to 60 dollar'),\n",
       "  Text(4, 0, 'b/w 60 to 80 dollar'),\n",
       "  Text(5, 0, 'b/w 10 to 40 dollar'),\n",
       "  Text(6, 0, 'b/w 5 to 10 dollar')])"
      ]
     },
     "execution_count": 10,
     "metadata": {},
     "output_type": "execute_result"
    },
    {
     "data": {
      "image/png": "[encoded data removed]",
      "text/plain": [
       "<Figure size 640x480 with 1 Axes>"
      ]
     },
     "metadata": {},
     "output_type": "display_data"
    }
   ],
   "source": [
    "fraud_amt = data.groupby(['amount_bkt','is_fraud']).size().unstack(fill_value=0)\n",
    "print(fraud_amt)\n",
    "\n",
    "## percentage analysis\n",
    "total_cases = data.groupby('amount_bkt').size()\n",
    "fraud_perc = (data[data[\"is_fraud\"]==1].groupby('amount_bkt').size()/total_cases) * 100\n",
    "print(fraud_perc)\n",
    "\n",
    "# Bar plot for counts\n",
    "plt.subplot(1, 2, 1)\n",
    "sns.countplot(data=data, x='amount_bkt', hue='is_fraud', palette={0: 'green', 1: 'red'})\n",
    "plt.title('Fraud vs Non-Fraud Cases by amount_bkt')\n",
    "plt.xlabel('amount_bkt')\n",
    "plt.ylabel('Count')\n",
    "plt.legend(title='Fraud', labels=['Non-Fraud (0)', 'Fraud (1)'])\n",
    "plt.xticks(rotation=45)"
   ]
  },
  {
   "cell_type": "code",
   "execution_count": 11,
   "id": "f8a8e1de",
   "metadata": {},
   "outputs": [],
   "source": [
    "### The highest number of fraud occure when amount in the \"more than 150 dollar\" and \"b/w 10 to 40 dollar\"\n",
    "\n"
   ]
  },
  {
   "cell_type": "markdown",
   "id": "7f862480",
   "metadata": {},
   "source": [
    "3. Transactions Category vs Fraud"
   ]
  },
  {
   "cell_type": "code",
   "execution_count": 12,
   "id": "ae4e59d0",
   "metadata": {},
   "outputs": [
    {
     "name": "stdout",
     "output_type": "stream",
     "text": [
      "is_fraud             0     1\n",
      "category                    \n",
      "entertainment    93781   233\n",
      "food_dining      91310   151\n",
      "gas_transport   131041   618\n",
      "grocery_net      45318   134\n",
      "grocery_pos     121895  1743\n",
      "health_fitness   85746   133\n",
      "home            122917   198\n",
      "kids_pets       112796   239\n",
      "misc_net         62372   915\n",
      "misc_pos         79405   250\n",
      "personal_care    90538   220\n",
      "shopping_net     95830  1713\n",
      "shopping_pos    115829   843\n",
      "travel           40391   116\n",
      "category\n",
      "entertainment     0.247835\n",
      "food_dining       0.165098\n",
      "gas_transport     0.469394\n",
      "grocery_net       0.294817\n",
      "grocery_pos       1.409761\n",
      "health_fitness    0.154869\n",
      "home              0.160825\n",
      "kids_pets         0.211439\n",
      "misc_net          1.445795\n",
      "misc_pos          0.313853\n",
      "personal_care     0.242403\n",
      "shopping_net      1.756149\n",
      "shopping_pos      0.722538\n",
      "travel            0.286370\n",
      "dtype: float64\n"
     ]
    },
    {
     "name": "stderr",
     "output_type": "stream",
     "text": [
      "c:\\Users\\Oliver\\anaconda4\\Lib\\site-packages\\seaborn\\_oldcore.py:1498: FutureWarning: is_categorical_dtype is deprecated and will be removed in a future version. Use isinstance(dtype, CategoricalDtype) instead\n",
      "  if pd.api.types.is_categorical_dtype(vector):\n",
      "c:\\Users\\Oliver\\anaconda4\\Lib\\site-packages\\seaborn\\_oldcore.py:1498: FutureWarning: is_categorical_dtype is deprecated and will be removed in a future version. Use isinstance(dtype, CategoricalDtype) instead\n",
      "  if pd.api.types.is_categorical_dtype(vector):\n",
      "c:\\Users\\Oliver\\anaconda4\\Lib\\site-packages\\seaborn\\_oldcore.py:1498: FutureWarning: is_categorical_dtype is deprecated and will be removed in a future version. Use isinstance(dtype, CategoricalDtype) instead\n",
      "  if pd.api.types.is_categorical_dtype(vector):\n",
      "c:\\Users\\Oliver\\anaconda4\\Lib\\site-packages\\seaborn\\_oldcore.py:1498: FutureWarning: is_categorical_dtype is deprecated and will be removed in a future version. Use isinstance(dtype, CategoricalDtype) instead\n",
      "  if pd.api.types.is_categorical_dtype(vector):\n"
     ]
    },
    {
     "data": {
      "text/plain": [
       "(array([ 0,  1,  2,  3,  4,  5,  6,  7,  8,  9, 10, 11, 12, 13]),\n",
       " [Text(0, 0, 'misc_net'),\n",
       "  Text(1, 0, 'grocery_pos'),\n",
       "  Text(2, 0, 'entertainment'),\n",
       "  Text(3, 0, 'gas_transport'),\n",
       "  Text(4, 0, 'misc_pos'),\n",
       "  Text(5, 0, 'grocery_net'),\n",
       "  Text(6, 0, 'shopping_net'),\n",
       "  Text(7, 0, 'shopping_pos'),\n",
       "  Text(8, 0, 'food_dining'),\n",
       "  Text(9, 0, 'personal_care'),\n",
       "  Text(10, 0, 'health_fitness'),\n",
       "  Text(11, 0, 'travel'),\n",
       "  Text(12, 0, 'kids_pets'),\n",
       "  Text(13, 0, 'home')])"
      ]
     },
     "execution_count": 12,
     "metadata": {},
     "output_type": "execute_result"
    },
    {
     "data": {
      "image/png": "[encoded data removed]",
      "text/plain": [
       "<Figure size 640x480 with 1 Axes>"
      ]
     },
     "metadata": {},
     "output_type": "display_data"
    }
   ],
   "source": [
    "fraud_amt = data.groupby(['category','is_fraud']).size().unstack(fill_value=0)\n",
    "print(fraud_amt)\n",
    "\n",
    "## percentage analysis\n",
    "total_cases = data.groupby('category').size()\n",
    "fraud_perc = (data[data[\"is_fraud\"]==1].groupby('category').size()/total_cases) * 100\n",
    "print(fraud_perc)\n",
    "\n",
    "# Bar plot for counts\n",
    "plt.subplot(1, 2, 1)\n",
    "sns.countplot(data=data, x='category', hue='is_fraud', palette={0: 'green', 1: 'red'})\n",
    "plt.title('Fraud vs Non-Fraud Cases by category')\n",
    "plt.xlabel('category')\n",
    "plt.ylabel('Count')\n",
    "plt.legend(title='Fraud', labels=['Non-Fraud (0)', 'Fraud (1)'])\n",
    "plt.xticks(rotation=45)"
   ]
  },
  {
   "cell_type": "code",
   "execution_count": 13,
   "id": "c86e9f12",
   "metadata": {},
   "outputs": [
    {
     "data": {
      "text/plain": [
       "14"
      ]
     },
     "execution_count": 13,
     "metadata": {},
     "output_type": "execute_result"
    }
   ],
   "source": [
    "data[\"category\"].nunique()"
   ]
  },
  {
   "cell_type": "markdown",
   "id": "2a673605",
   "metadata": {},
   "source": [
    "4. Gender Vs Fraud"
   ]
  },
  {
   "cell_type": "code",
   "execution_count": 14,
   "id": "661238b6",
   "metadata": {},
   "outputs": [
    {
     "name": "stdout",
     "output_type": "stream",
     "text": [
      "is_fraud       0     1\n",
      "gender                \n",
      "F         706128  3735\n",
      "M         583041  3771\n",
      "gender\n",
      "F    0.526158\n",
      "M    0.642625\n",
      "dtype: float64\n"
     ]
    },
    {
     "name": "stderr",
     "output_type": "stream",
     "text": [
      "c:\\Users\\Oliver\\anaconda4\\Lib\\site-packages\\seaborn\\_oldcore.py:1498: FutureWarning: is_categorical_dtype is deprecated and will be removed in a future version. Use isinstance(dtype, CategoricalDtype) instead\n",
      "  if pd.api.types.is_categorical_dtype(vector):\n",
      "c:\\Users\\Oliver\\anaconda4\\Lib\\site-packages\\seaborn\\_oldcore.py:1498: FutureWarning: is_categorical_dtype is deprecated and will be removed in a future version. Use isinstance(dtype, CategoricalDtype) instead\n",
      "  if pd.api.types.is_categorical_dtype(vector):\n",
      "c:\\Users\\Oliver\\anaconda4\\Lib\\site-packages\\seaborn\\_oldcore.py:1498: FutureWarning: is_categorical_dtype is deprecated and will be removed in a future version. Use isinstance(dtype, CategoricalDtype) instead\n",
      "  if pd.api.types.is_categorical_dtype(vector):\n",
      "c:\\Users\\Oliver\\anaconda4\\Lib\\site-packages\\seaborn\\_oldcore.py:1498: FutureWarning: is_categorical_dtype is deprecated and will be removed in a future version. Use isinstance(dtype, CategoricalDtype) instead\n",
      "  if pd.api.types.is_categorical_dtype(vector):\n"
     ]
    },
    {
     "data": {
      "text/plain": [
       "(array([0, 1]), [Text(0, 0, 'F'), Text(1, 0, 'M')])"
      ]
     },
     "execution_count": 14,
     "metadata": {},
     "output_type": "execute_result"
    },
    {
     "data": {
      "image/png": "[encoded data removed]",
      "text/plain": [
       "<Figure size 640x480 with 1 Axes>"
      ]
     },
     "metadata": {},
     "output_type": "display_data"
    }
   ],
   "source": [
    "fraud_amt = data.groupby(['gender','is_fraud']).size().unstack(fill_value=0)\n",
    "print(fraud_amt)\n",
    "\n",
    "## percentage analysis\n",
    "total_cases = data.groupby('gender').size()\n",
    "fraud_perc = (data[data[\"is_fraud\"]==1].groupby('gender').size()/total_cases) * 100\n",
    "print(fraud_perc)\n",
    "\n",
    "# Bar plot for counts\n",
    "plt.subplot(1, 2, 1)\n",
    "sns.countplot(data=data, x='gender', hue='is_fraud', palette={0: 'green', 1: 'red'})\n",
    "plt.title('Fraud vs Non-Fraud Cases by gender')\n",
    "plt.xlabel('gender')\n",
    "plt.ylabel('Count')\n",
    "plt.legend(title='Fraud', labels=['Non-Fraud (0)', 'Fraud (1)'])\n",
    "plt.xticks(rotation=45)"
   ]
  },
  {
   "cell_type": "code",
   "execution_count": 15,
   "id": "340c0197",
   "metadata": {},
   "outputs": [
    {
     "data": {
      "text/html": [
       "<div>\n",
       "<style scoped>\n",
       "    .dataframe tbody tr th:only-of-type {\n",
       "        vertical-align: middle;\n",
       "    }\n",
       "\n",
       "    .dataframe tbody tr th {\n",
       "        vertical-align: top;\n",
       "    }\n",
       "\n",
       "    .dataframe thead th {\n",
       "        text-align: right;\n",
       "    }\n",
       "</style>\n",
       "<table border=\"1\" class=\"dataframe\">\n",
       "  <thead>\n",
       "    <tr style=\"text-align: right;\">\n",
       "      <th></th>\n",
       "      <th>trans_num</th>\n",
       "      <th>trans_date</th>\n",
       "      <th>time_bucket</th>\n",
       "      <th>cc_num</th>\n",
       "      <th>amount_bkt</th>\n",
       "      <th>category</th>\n",
       "      <th>gender</th>\n",
       "      <th>state</th>\n",
       "      <th>latitudinal_distance</th>\n",
       "      <th>longitudinal_distance</th>\n",
       "      <th>population_bkt</th>\n",
       "      <th>age</th>\n",
       "      <th>is_fraud</th>\n",
       "    </tr>\n",
       "  </thead>\n",
       "  <tbody>\n",
       "    <tr>\n",
       "      <th>0</th>\n",
       "      <td>0b242abb623afc578575680df30655b9</td>\n",
       "      <td>2019-01-01</td>\n",
       "      <td>12AM-6AM</td>\n",
       "      <td>CN - 2703186189652095</td>\n",
       "      <td>less than 5 dollar</td>\n",
       "      <td>misc_net</td>\n",
       "      <td>F</td>\n",
       "      <td>NC</td>\n",
       "      <td>0.068</td>\n",
       "      <td>0.870</td>\n",
       "      <td>Medium_pop</td>\n",
       "      <td>31</td>\n",
       "      <td>0</td>\n",
       "    </tr>\n",
       "    <tr>\n",
       "      <th>1</th>\n",
       "      <td>1f76529f8574734946361c461b024d99</td>\n",
       "      <td>2019-01-01</td>\n",
       "      <td>12AM-6AM</td>\n",
       "      <td>CN - 630423337322</td>\n",
       "      <td>b/w 80 to 150 dollar</td>\n",
       "      <td>grocery_pos</td>\n",
       "      <td>F</td>\n",
       "      <td>WA</td>\n",
       "      <td>0.271</td>\n",
       "      <td>0.024</td>\n",
       "      <td>Low_pop</td>\n",
       "      <td>41</td>\n",
       "      <td>0</td>\n",
       "    </tr>\n",
       "  </tbody>\n",
       "</table>\n",
       "</div>"
      ],
      "text/plain": [
       "                          trans_num  trans_date time_bucket  \\\n",
       "0  0b242abb623afc578575680df30655b9  2019-01-01    12AM-6AM   \n",
       "1  1f76529f8574734946361c461b024d99  2019-01-01    12AM-6AM   \n",
       "\n",
       "                  cc_num            amount_bkt     category gender state  \\\n",
       "0  CN - 2703186189652095    less than 5 dollar     misc_net      F    NC   \n",
       "1      CN - 630423337322  b/w 80 to 150 dollar  grocery_pos      F    WA   \n",
       "\n",
       "   latitudinal_distance  longitudinal_distance population_bkt  age  is_fraud  \n",
       "0                 0.068                  0.870     Medium_pop   31         0  \n",
       "1                 0.271                  0.024        Low_pop   41         0  "
      ]
     },
     "execution_count": 15,
     "metadata": {},
     "output_type": "execute_result"
    }
   ],
   "source": [
    "data.head(2)"
   ]
  },
  {
   "cell_type": "code",
   "execution_count": 16,
   "id": "069ef9be",
   "metadata": {},
   "outputs": [
    {
     "data": {
      "text/plain": [
       "51"
      ]
     },
     "execution_count": 16,
     "metadata": {},
     "output_type": "execute_result"
    }
   ],
   "source": [
    "data[\"state\"].nunique()"
   ]
  },
  {
   "cell_type": "markdown",
   "id": "874fbe42",
   "metadata": {},
   "source": [
    "5. population bkt vs fraud"
   ]
  },
  {
   "cell_type": "code",
   "execution_count": 17,
   "id": "387eede3",
   "metadata": {},
   "outputs": [
    {
     "name": "stdout",
     "output_type": "stream",
     "text": [
      "is_fraud             0     1\n",
      "population_bkt              \n",
      "High_pop        386722  2342\n",
      "Low_pop         395756  2299\n",
      "Medium_pop      506691  2865\n",
      "population_bkt\n",
      "High_pop      0.601958\n",
      "Low_pop       0.577558\n",
      "Medium_pop    0.562254\n",
      "dtype: float64\n"
     ]
    },
    {
     "name": "stderr",
     "output_type": "stream",
     "text": [
      "c:\\Users\\Oliver\\anaconda4\\Lib\\site-packages\\seaborn\\_oldcore.py:1498: FutureWarning: is_categorical_dtype is deprecated and will be removed in a future version. Use isinstance(dtype, CategoricalDtype) instead\n",
      "  if pd.api.types.is_categorical_dtype(vector):\n",
      "c:\\Users\\Oliver\\anaconda4\\Lib\\site-packages\\seaborn\\_oldcore.py:1498: FutureWarning: is_categorical_dtype is deprecated and will be removed in a future version. Use isinstance(dtype, CategoricalDtype) instead\n",
      "  if pd.api.types.is_categorical_dtype(vector):\n",
      "c:\\Users\\Oliver\\anaconda4\\Lib\\site-packages\\seaborn\\_oldcore.py:1498: FutureWarning: is_categorical_dtype is deprecated and will be removed in a future version. Use isinstance(dtype, CategoricalDtype) instead\n",
      "  if pd.api.types.is_categorical_dtype(vector):\n",
      "c:\\Users\\Oliver\\anaconda4\\Lib\\site-packages\\seaborn\\_oldcore.py:1498: FutureWarning: is_categorical_dtype is deprecated and will be removed in a future version. Use isinstance(dtype, CategoricalDtype) instead\n",
      "  if pd.api.types.is_categorical_dtype(vector):\n"
     ]
    },
    {
     "data": {
      "text/plain": [
       "(array([0, 1, 2]),\n",
       " [Text(0, 0, 'Medium_pop'), Text(1, 0, 'Low_pop'), Text(2, 0, 'High_pop')])"
      ]
     },
     "execution_count": 17,
     "metadata": {},
     "output_type": "execute_result"
    },
    {
     "data": {
      "image/png": "[encoded data removed]",
      "text/plain": [
       "<Figure size 640x480 with 1 Axes>"
      ]
     },
     "metadata": {},
     "output_type": "display_data"
    }
   ],
   "source": [
    "fraud_amt = data.groupby(['population_bkt','is_fraud']).size().unstack(fill_value=0)\n",
    "print(fraud_amt)\n",
    "\n",
    "## percentage analysis\n",
    "total_cases = data.groupby('population_bkt').size()\n",
    "fraud_perc = (data[data[\"is_fraud\"]==1].groupby('population_bkt').size()/total_cases) * 100\n",
    "print(fraud_perc)\n",
    "\n",
    "# Bar plot for counts\n",
    "plt.subplot(1, 2, 1)\n",
    "sns.countplot(data=data, x='population_bkt', hue='is_fraud', palette={0: 'green', 1: 'red'})\n",
    "plt.title('Fraud vs Non-Fraud Cases by population_bkt')\n",
    "plt.xlabel('population_bkt')\n",
    "plt.ylabel('Count')\n",
    "plt.legend(title='Fraud', labels=['Non-Fraud (0)', 'Fraud (1)'])\n",
    "plt.xticks(rotation=45)"
   ]
  },
  {
   "cell_type": "code",
   "execution_count": 18,
   "id": "e6717d0b",
   "metadata": {},
   "outputs": [
    {
     "data": {
      "image/png": "[encoded data removed]",
      "text/plain": [
       "<Figure size 640x480 with 1 Axes>"
      ]
     },
     "metadata": {},
     "output_type": "display_data"
    }
   ],
   "source": [
    "fraud=data[data[\"is_fraud\"]==1]\n",
    "fig, ax = plt.subplots()\n",
    "ax.hist(fraud.age, edgecolor = \"black\", bins = 5)\n",
    "plt.title(\"Number of Credit Card Frauds by Age Groups\")\n",
    "plt.show()"
   ]
  },
  {
   "cell_type": "code",
   "execution_count": 19,
   "id": "8b967527",
   "metadata": {},
   "outputs": [
    {
     "data": {
      "text/html": [
       "<div>\n",
       "<style scoped>\n",
       "    .dataframe tbody tr th:only-of-type {\n",
       "        vertical-align: middle;\n",
       "    }\n",
       "\n",
       "    .dataframe tbody tr th {\n",
       "        vertical-align: top;\n",
       "    }\n",
       "\n",
       "    .dataframe thead th {\n",
       "        text-align: right;\n",
       "    }\n",
       "</style>\n",
       "<table border=\"1\" class=\"dataframe\">\n",
       "  <thead>\n",
       "    <tr style=\"text-align: right;\">\n",
       "      <th></th>\n",
       "      <th>trans_num</th>\n",
       "      <th>trans_date</th>\n",
       "      <th>time_bucket</th>\n",
       "      <th>cc_num</th>\n",
       "      <th>amount_bkt</th>\n",
       "      <th>category</th>\n",
       "      <th>gender</th>\n",
       "      <th>state</th>\n",
       "      <th>latitudinal_distance</th>\n",
       "      <th>longitudinal_distance</th>\n",
       "      <th>population_bkt</th>\n",
       "      <th>age</th>\n",
       "      <th>is_fraud</th>\n",
       "    </tr>\n",
       "  </thead>\n",
       "  <tbody>\n",
       "    <tr>\n",
       "      <th>0</th>\n",
       "      <td>0b242abb623afc578575680df30655b9</td>\n",
       "      <td>2019-01-01</td>\n",
       "      <td>12AM-6AM</td>\n",
       "      <td>CN - 2703186189652095</td>\n",
       "      <td>less than 5 dollar</td>\n",
       "      <td>misc_net</td>\n",
       "      <td>F</td>\n",
       "      <td>NC</td>\n",
       "      <td>0.068</td>\n",
       "      <td>0.870</td>\n",
       "      <td>Medium_pop</td>\n",
       "      <td>31</td>\n",
       "      <td>0</td>\n",
       "    </tr>\n",
       "    <tr>\n",
       "      <th>1</th>\n",
       "      <td>1f76529f8574734946361c461b024d99</td>\n",
       "      <td>2019-01-01</td>\n",
       "      <td>12AM-6AM</td>\n",
       "      <td>CN - 630423337322</td>\n",
       "      <td>b/w 80 to 150 dollar</td>\n",
       "      <td>grocery_pos</td>\n",
       "      <td>F</td>\n",
       "      <td>WA</td>\n",
       "      <td>0.271</td>\n",
       "      <td>0.024</td>\n",
       "      <td>Low_pop</td>\n",
       "      <td>41</td>\n",
       "      <td>0</td>\n",
       "    </tr>\n",
       "  </tbody>\n",
       "</table>\n",
       "</div>"
      ],
      "text/plain": [
       "                          trans_num  trans_date time_bucket  \\\n",
       "0  0b242abb623afc578575680df30655b9  2019-01-01    12AM-6AM   \n",
       "1  1f76529f8574734946361c461b024d99  2019-01-01    12AM-6AM   \n",
       "\n",
       "                  cc_num            amount_bkt     category gender state  \\\n",
       "0  CN - 2703186189652095    less than 5 dollar     misc_net      F    NC   \n",
       "1      CN - 630423337322  b/w 80 to 150 dollar  grocery_pos      F    WA   \n",
       "\n",
       "   latitudinal_distance  longitudinal_distance population_bkt  age  is_fraud  \n",
       "0                 0.068                  0.870     Medium_pop   31         0  \n",
       "1                 0.271                  0.024        Low_pop   41         0  "
      ]
     },
     "execution_count": 19,
     "metadata": {},
     "output_type": "execute_result"
    }
   ],
   "source": [
    "data.head(2)"
   ]
  },
  {
   "cell_type": "code",
   "execution_count": 20,
   "id": "b4ca821d",
   "metadata": {},
   "outputs": [
    {
     "data": {
      "text/html": [
       "<div>\n",
       "<style scoped>\n",
       "    .dataframe tbody tr th:only-of-type {\n",
       "        vertical-align: middle;\n",
       "    }\n",
       "\n",
       "    .dataframe tbody tr th {\n",
       "        vertical-align: top;\n",
       "    }\n",
       "\n",
       "    .dataframe thead th {\n",
       "        text-align: right;\n",
       "    }\n",
       "</style>\n",
       "<table border=\"1\" class=\"dataframe\">\n",
       "  <thead>\n",
       "    <tr style=\"text-align: right;\">\n",
       "      <th></th>\n",
       "      <th>latitudinal_distance</th>\n",
       "      <th>longitudinal_distance</th>\n",
       "      <th>age</th>\n",
       "      <th>is_fraud</th>\n",
       "    </tr>\n",
       "  </thead>\n",
       "  <tbody>\n",
       "    <tr>\n",
       "      <th>count</th>\n",
       "      <td>1.296675e+06</td>\n",
       "      <td>1.296675e+06</td>\n",
       "      <td>1.296675e+06</td>\n",
       "      <td>1.296675e+06</td>\n",
       "    </tr>\n",
       "    <tr>\n",
       "      <th>mean</th>\n",
       "      <td>5.002626e-01</td>\n",
       "      <td>5.003366e-01</td>\n",
       "      <td>4.599746e+01</td>\n",
       "      <td>5.788652e-03</td>\n",
       "    </tr>\n",
       "    <tr>\n",
       "      <th>std</th>\n",
       "      <td>2.885700e-01</td>\n",
       "      <td>2.888704e-01</td>\n",
       "      <td>1.739607e+01</td>\n",
       "      <td>7.586269e-02</td>\n",
       "    </tr>\n",
       "    <tr>\n",
       "      <th>min</th>\n",
       "      <td>0.000000e+00</td>\n",
       "      <td>0.000000e+00</td>\n",
       "      <td>1.400000e+01</td>\n",
       "      <td>0.000000e+00</td>\n",
       "    </tr>\n",
       "    <tr>\n",
       "      <th>25%</th>\n",
       "      <td>2.500000e-01</td>\n",
       "      <td>2.500000e-01</td>\n",
       "      <td>3.300000e+01</td>\n",
       "      <td>0.000000e+00</td>\n",
       "    </tr>\n",
       "    <tr>\n",
       "      <th>50%</th>\n",
       "      <td>5.010000e-01</td>\n",
       "      <td>5.000000e-01</td>\n",
       "      <td>4.400000e+01</td>\n",
       "      <td>0.000000e+00</td>\n",
       "    </tr>\n",
       "    <tr>\n",
       "      <th>75%</th>\n",
       "      <td>7.500000e-01</td>\n",
       "      <td>7.510000e-01</td>\n",
       "      <td>5.700000e+01</td>\n",
       "      <td>0.000000e+00</td>\n",
       "    </tr>\n",
       "    <tr>\n",
       "      <th>max</th>\n",
       "      <td>1.000000e+00</td>\n",
       "      <td>1.000000e+00</td>\n",
       "      <td>9.600000e+01</td>\n",
       "      <td>1.000000e+00</td>\n",
       "    </tr>\n",
       "  </tbody>\n",
       "</table>\n",
       "</div>"
      ],
      "text/plain": [
       "       latitudinal_distance  longitudinal_distance           age      is_fraud\n",
       "count          1.296675e+06           1.296675e+06  1.296675e+06  1.296675e+06\n",
       "mean           5.002626e-01           5.003366e-01  4.599746e+01  5.788652e-03\n",
       "std            2.885700e-01           2.888704e-01  1.739607e+01  7.586269e-02\n",
       "min            0.000000e+00           0.000000e+00  1.400000e+01  0.000000e+00\n",
       "25%            2.500000e-01           2.500000e-01  3.300000e+01  0.000000e+00\n",
       "50%            5.010000e-01           5.000000e-01  4.400000e+01  0.000000e+00\n",
       "75%            7.500000e-01           7.510000e-01  5.700000e+01  0.000000e+00\n",
       "max            1.000000e+00           1.000000e+00  9.600000e+01  1.000000e+00"
      ]
     },
     "execution_count": 20,
     "metadata": {},
     "output_type": "execute_result"
    }
   ],
   "source": [
    "### bucketization of age\n",
    "data.describe()"
   ]
  },
  {
   "cell_type": "code",
   "execution_count": 21,
   "id": "2f84023e",
   "metadata": {},
   "outputs": [],
   "source": [
    "def age_bkt(x):\n",
    "    if x<=25:\n",
    "        return \"less than 25\"\n",
    "    elif 25<x<=40:\n",
    "        return \"b/w 25 to 40\"\n",
    "    elif 40<x<=60:\n",
    "        return \"b/w 40 to 60\"\n",
    "    else:\n",
    "        return \"more than 60\"\n",
    "    \n",
    "data[\"age_bkt\"] = data[\"age\"].apply(lambda x: age_bkt(x))"
   ]
  },
  {
   "cell_type": "code",
   "execution_count": 22,
   "id": "490a028e",
   "metadata": {},
   "outputs": [
    {
     "data": {
      "text/html": [
       "<div>\n",
       "<style scoped>\n",
       "    .dataframe tbody tr th:only-of-type {\n",
       "        vertical-align: middle;\n",
       "    }\n",
       "\n",
       "    .dataframe tbody tr th {\n",
       "        vertical-align: top;\n",
       "    }\n",
       "\n",
       "    .dataframe thead th {\n",
       "        text-align: right;\n",
       "    }\n",
       "</style>\n",
       "<table border=\"1\" class=\"dataframe\">\n",
       "  <thead>\n",
       "    <tr style=\"text-align: right;\">\n",
       "      <th></th>\n",
       "      <th>trans_num</th>\n",
       "      <th>trans_date</th>\n",
       "      <th>time_bucket</th>\n",
       "      <th>cc_num</th>\n",
       "      <th>amount_bkt</th>\n",
       "      <th>category</th>\n",
       "      <th>gender</th>\n",
       "      <th>state</th>\n",
       "      <th>latitudinal_distance</th>\n",
       "      <th>longitudinal_distance</th>\n",
       "      <th>population_bkt</th>\n",
       "      <th>age</th>\n",
       "      <th>is_fraud</th>\n",
       "      <th>age_bkt</th>\n",
       "    </tr>\n",
       "  </thead>\n",
       "  <tbody>\n",
       "    <tr>\n",
       "      <th>0</th>\n",
       "      <td>0b242abb623afc578575680df30655b9</td>\n",
       "      <td>2019-01-01</td>\n",
       "      <td>12AM-6AM</td>\n",
       "      <td>CN - 2703186189652095</td>\n",
       "      <td>less than 5 dollar</td>\n",
       "      <td>misc_net</td>\n",
       "      <td>F</td>\n",
       "      <td>NC</td>\n",
       "      <td>0.068</td>\n",
       "      <td>0.870</td>\n",
       "      <td>Medium_pop</td>\n",
       "      <td>31</td>\n",
       "      <td>0</td>\n",
       "      <td>b/w 25 to 40</td>\n",
       "    </tr>\n",
       "    <tr>\n",
       "      <th>1</th>\n",
       "      <td>1f76529f8574734946361c461b024d99</td>\n",
       "      <td>2019-01-01</td>\n",
       "      <td>12AM-6AM</td>\n",
       "      <td>CN - 630423337322</td>\n",
       "      <td>b/w 80 to 150 dollar</td>\n",
       "      <td>grocery_pos</td>\n",
       "      <td>F</td>\n",
       "      <td>WA</td>\n",
       "      <td>0.271</td>\n",
       "      <td>0.024</td>\n",
       "      <td>Low_pop</td>\n",
       "      <td>41</td>\n",
       "      <td>0</td>\n",
       "      <td>b/w 40 to 60</td>\n",
       "    </tr>\n",
       "  </tbody>\n",
       "</table>\n",
       "</div>"
      ],
      "text/plain": [
       "                          trans_num  trans_date time_bucket  \\\n",
       "0  0b242abb623afc578575680df30655b9  2019-01-01    12AM-6AM   \n",
       "1  1f76529f8574734946361c461b024d99  2019-01-01    12AM-6AM   \n",
       "\n",
       "                  cc_num            amount_bkt     category gender state  \\\n",
       "0  CN - 2703186189652095    less than 5 dollar     misc_net      F    NC   \n",
       "1      CN - 630423337322  b/w 80 to 150 dollar  grocery_pos      F    WA   \n",
       "\n",
       "   latitudinal_distance  longitudinal_distance population_bkt  age  is_fraud  \\\n",
       "0                 0.068                  0.870     Medium_pop   31         0   \n",
       "1                 0.271                  0.024        Low_pop   41         0   \n",
       "\n",
       "        age_bkt  \n",
       "0  b/w 25 to 40  \n",
       "1  b/w 40 to 60  "
      ]
     },
     "execution_count": 22,
     "metadata": {},
     "output_type": "execute_result"
    }
   ],
   "source": [
    "data.head(2)"
   ]
  },
  {
   "cell_type": "code",
   "execution_count": 23,
   "id": "a81dd88d",
   "metadata": {},
   "outputs": [
    {
     "name": "stdout",
     "output_type": "stream",
     "text": [
      "is_fraud           0     1\n",
      "age_bkt                   \n",
      "b/w 25 to 40  412082  1923\n",
      "b/w 40 to 60  485665  2799\n",
      "less than 25  130712   838\n",
      "more than 60  260710  1946\n",
      "age_bkt\n",
      "b/w 25 to 40    0.464487\n",
      "b/w 40 to 60    0.573021\n",
      "less than 25    0.637020\n",
      "more than 60    0.740893\n",
      "dtype: float64\n"
     ]
    },
    {
     "name": "stderr",
     "output_type": "stream",
     "text": [
      "c:\\Users\\Oliver\\anaconda4\\Lib\\site-packages\\seaborn\\_oldcore.py:1498: FutureWarning: is_categorical_dtype is deprecated and will be removed in a future version. Use isinstance(dtype, CategoricalDtype) instead\n",
      "  if pd.api.types.is_categorical_dtype(vector):\n",
      "c:\\Users\\Oliver\\anaconda4\\Lib\\site-packages\\seaborn\\_oldcore.py:1498: FutureWarning: is_categorical_dtype is deprecated and will be removed in a future version. Use isinstance(dtype, CategoricalDtype) instead\n",
      "  if pd.api.types.is_categorical_dtype(vector):\n",
      "c:\\Users\\Oliver\\anaconda4\\Lib\\site-packages\\seaborn\\_oldcore.py:1498: FutureWarning: is_categorical_dtype is deprecated and will be removed in a future version. Use isinstance(dtype, CategoricalDtype) instead\n",
      "  if pd.api.types.is_categorical_dtype(vector):\n",
      "c:\\Users\\Oliver\\anaconda4\\Lib\\site-packages\\seaborn\\_oldcore.py:1498: FutureWarning: is_categorical_dtype is deprecated and will be removed in a future version. Use isinstance(dtype, CategoricalDtype) instead\n",
      "  if pd.api.types.is_categorical_dtype(vector):\n"
     ]
    },
    {
     "data": {
      "text/plain": [
       "(array([0, 1, 2, 3]),\n",
       " [Text(0, 0, 'b/w 25 to 40'),\n",
       "  Text(1, 0, 'b/w 40 to 60'),\n",
       "  Text(2, 0, 'less than 25'),\n",
       "  Text(3, 0, 'more than 60')])"
      ]
     },
     "execution_count": 23,
     "metadata": {},
     "output_type": "execute_result"
    },
    {
     "data": {
      "image/png": "[encoded data removed]",
      "text/plain": [
       "<Figure size 640x480 with 1 Axes>"
      ]
     },
     "metadata": {},
     "output_type": "display_data"
    }
   ],
   "source": [
    "fraud_amt = data.groupby(['age_bkt','is_fraud']).size().unstack(fill_value=0)\n",
    "print(fraud_amt)\n",
    "\n",
    "## percentage analysis\n",
    "total_cases = data.groupby('age_bkt').size()\n",
    "fraud_perc = (data[data[\"is_fraud\"]==1].groupby('age_bkt').size()/total_cases) * 100\n",
    "print(fraud_perc)\n",
    "\n",
    "# Bar plot for counts\n",
    "plt.subplot(1, 2, 1)\n",
    "sns.countplot(data=data, x='age_bkt', hue='is_fraud', palette={0: 'green', 1: 'red'})\n",
    "plt.title('Fraud vs Non-Fraud Cases by age_bkt')\n",
    "plt.xlabel('age_bkt')\n",
    "plt.ylabel('Count')\n",
    "plt.legend(title='Fraud', labels=['Non-Fraud (0)', 'Fraud (1)'])\n",
    "plt.xticks(rotation=45)"
   ]
  },
  {
   "cell_type": "code",
   "execution_count": 24,
   "id": "ea878524",
   "metadata": {},
   "outputs": [
    {
     "data": {
      "text/html": [
       "<div>\n",
       "<style scoped>\n",
       "    .dataframe tbody tr th:only-of-type {\n",
       "        vertical-align: middle;\n",
       "    }\n",
       "\n",
       "    .dataframe tbody tr th {\n",
       "        vertical-align: top;\n",
       "    }\n",
       "\n",
       "    .dataframe thead th {\n",
       "        text-align: right;\n",
       "    }\n",
       "</style>\n",
       "<table border=\"1\" class=\"dataframe\">\n",
       "  <thead>\n",
       "    <tr style=\"text-align: right;\">\n",
       "      <th></th>\n",
       "      <th>trans_num</th>\n",
       "      <th>trans_date</th>\n",
       "      <th>time_bucket</th>\n",
       "      <th>cc_num</th>\n",
       "      <th>amount_bkt</th>\n",
       "      <th>category</th>\n",
       "      <th>gender</th>\n",
       "      <th>state</th>\n",
       "      <th>latitudinal_distance</th>\n",
       "      <th>longitudinal_distance</th>\n",
       "      <th>population_bkt</th>\n",
       "      <th>age</th>\n",
       "      <th>is_fraud</th>\n",
       "      <th>age_bkt</th>\n",
       "    </tr>\n",
       "  </thead>\n",
       "  <tbody>\n",
       "    <tr>\n",
       "      <th>0</th>\n",
       "      <td>0b242abb623afc578575680df30655b9</td>\n",
       "      <td>2019-01-01</td>\n",
       "      <td>12AM-6AM</td>\n",
       "      <td>CN - 2703186189652095</td>\n",
       "      <td>less than 5 dollar</td>\n",
       "      <td>misc_net</td>\n",
       "      <td>F</td>\n",
       "      <td>NC</td>\n",
       "      <td>0.068</td>\n",
       "      <td>0.870</td>\n",
       "      <td>Medium_pop</td>\n",
       "      <td>31</td>\n",
       "      <td>0</td>\n",
       "      <td>b/w 25 to 40</td>\n",
       "    </tr>\n",
       "    <tr>\n",
       "      <th>1</th>\n",
       "      <td>1f76529f8574734946361c461b024d99</td>\n",
       "      <td>2019-01-01</td>\n",
       "      <td>12AM-6AM</td>\n",
       "      <td>CN - 630423337322</td>\n",
       "      <td>b/w 80 to 150 dollar</td>\n",
       "      <td>grocery_pos</td>\n",
       "      <td>F</td>\n",
       "      <td>WA</td>\n",
       "      <td>0.271</td>\n",
       "      <td>0.024</td>\n",
       "      <td>Low_pop</td>\n",
       "      <td>41</td>\n",
       "      <td>0</td>\n",
       "      <td>b/w 40 to 60</td>\n",
       "    </tr>\n",
       "    <tr>\n",
       "      <th>2</th>\n",
       "      <td>a1a22d70485983eac12b5b88dad1cf95</td>\n",
       "      <td>2019-01-01</td>\n",
       "      <td>12AM-6AM</td>\n",
       "      <td>CN - 38859492057661</td>\n",
       "      <td>more than 150 dollar</td>\n",
       "      <td>entertainment</td>\n",
       "      <td>M</td>\n",
       "      <td>ID</td>\n",
       "      <td>0.970</td>\n",
       "      <td>0.108</td>\n",
       "      <td>Medium_pop</td>\n",
       "      <td>57</td>\n",
       "      <td>0</td>\n",
       "      <td>b/w 40 to 60</td>\n",
       "    </tr>\n",
       "    <tr>\n",
       "      <th>3</th>\n",
       "      <td>6b849c168bdad6f867558c3793159a81</td>\n",
       "      <td>2019-01-01</td>\n",
       "      <td>12AM-6AM</td>\n",
       "      <td>CN - 3534093764340240</td>\n",
       "      <td>b/w 40 to 60 dollar</td>\n",
       "      <td>gas_transport</td>\n",
       "      <td>M</td>\n",
       "      <td>MT</td>\n",
       "      <td>0.804</td>\n",
       "      <td>0.447</td>\n",
       "      <td>Medium_pop</td>\n",
       "      <td>52</td>\n",
       "      <td>0</td>\n",
       "      <td>b/w 40 to 60</td>\n",
       "    </tr>\n",
       "    <tr>\n",
       "      <th>4</th>\n",
       "      <td>a41d7549acf90789359a9aa5346dcb46</td>\n",
       "      <td>2019-01-01</td>\n",
       "      <td>12AM-6AM</td>\n",
       "      <td>CN - 375534208663984</td>\n",
       "      <td>b/w 40 to 60 dollar</td>\n",
       "      <td>misc_pos</td>\n",
       "      <td>M</td>\n",
       "      <td>VA</td>\n",
       "      <td>0.254</td>\n",
       "      <td>0.830</td>\n",
       "      <td>Low_pop</td>\n",
       "      <td>33</td>\n",
       "      <td>0</td>\n",
       "      <td>b/w 25 to 40</td>\n",
       "    </tr>\n",
       "  </tbody>\n",
       "</table>\n",
       "</div>"
      ],
      "text/plain": [
       "                          trans_num  trans_date time_bucket  \\\n",
       "0  0b242abb623afc578575680df30655b9  2019-01-01    12AM-6AM   \n",
       "1  1f76529f8574734946361c461b024d99  2019-01-01    12AM-6AM   \n",
       "2  a1a22d70485983eac12b5b88dad1cf95  2019-01-01    12AM-6AM   \n",
       "3  6b849c168bdad6f867558c3793159a81  2019-01-01    12AM-6AM   \n",
       "4  a41d7549acf90789359a9aa5346dcb46  2019-01-01    12AM-6AM   \n",
       "\n",
       "                  cc_num            amount_bkt       category gender state  \\\n",
       "0  CN - 2703186189652095    less than 5 dollar       misc_net      F    NC   \n",
       "1      CN - 630423337322  b/w 80 to 150 dollar    grocery_pos      F    WA   \n",
       "2    CN - 38859492057661  more than 150 dollar  entertainment      M    ID   \n",
       "3  CN - 3534093764340240   b/w 40 to 60 dollar  gas_transport      M    MT   \n",
       "4   CN - 375534208663984   b/w 40 to 60 dollar       misc_pos      M    VA   \n",
       "\n",
       "   latitudinal_distance  longitudinal_distance population_bkt  age  is_fraud  \\\n",
       "0                 0.068                  0.870     Medium_pop   31         0   \n",
       "1                 0.271                  0.024        Low_pop   41         0   \n",
       "2                 0.970                  0.108     Medium_pop   57         0   \n",
       "3                 0.804                  0.447     Medium_pop   52         0   \n",
       "4                 0.254                  0.830        Low_pop   33         0   \n",
       "\n",
       "        age_bkt  \n",
       "0  b/w 25 to 40  \n",
       "1  b/w 40 to 60  \n",
       "2  b/w 40 to 60  \n",
       "3  b/w 40 to 60  \n",
       "4  b/w 25 to 40  "
      ]
     },
     "execution_count": 24,
     "metadata": {},
     "output_type": "execute_result"
    }
   ],
   "source": [
    "data.head()"
   ]
  },
  {
   "cell_type": "markdown",
   "id": "1b797c32",
   "metadata": {},
   "source": [
    "### Feature Importance"
   ]
  },
  {
   "cell_type": "code",
   "execution_count": 25,
   "id": "9f2deac6",
   "metadata": {},
   "outputs": [
    {
     "data": {
      "text/plain": [
       "is_fraud\n",
       "0    0.994211\n",
       "1    0.005789\n",
       "Name: proportion, dtype: float64"
      ]
     },
     "execution_count": 25,
     "metadata": {},
     "output_type": "execute_result"
    }
   ],
   "source": [
    "data[\"is_fraud\"].value_counts(normalize=True)"
   ]
  },
  {
   "cell_type": "markdown",
   "id": "a3b59396",
   "metadata": {},
   "source": [
    "##### Chi Square Test"
   ]
  },
  {
   "cell_type": "code",
   "execution_count": 26,
   "id": "0d37c761",
   "metadata": {},
   "outputs": [],
   "source": [
    "#!pip install scipy"
   ]
  },
  {
   "cell_type": "code",
   "execution_count": 27,
   "id": "5531beb3",
   "metadata": {},
   "outputs": [],
   "source": [
    "from scipy.stats import chi2_contingency"
   ]
  },
  {
   "cell_type": "code",
   "execution_count": 33,
   "id": "50f1c016",
   "metadata": {},
   "outputs": [],
   "source": [
    "\n",
    "def chi_square_test(df, categorical_cols, target_col='is_fraud', alpha=0.05):\n",
    "    \n",
    "    results = []\n",
    "    \n",
    "    for col in categorical_cols:\n",
    "        # Create contingency table\n",
    "        contingency_table = pd.crosstab(df[col], df[target_col])\n",
    "        \n",
    "        # Perform Chi-Square test\n",
    "        chi2, p, dof, expected = chi2_contingency(contingency_table)\n",
    "        \n",
    "        # Determine if result is significant\n",
    "        significant = p <= alpha\n",
    "        \n",
    "        # Calculate Cramer's V (effect size)\n",
    "        n = contingency_table.sum().sum()\n",
    "        cramers_v = np.sqrt(chi2 / (n * (min(contingency_table.shape) - 1)))\n",
    "        \n",
    "        results.append({\n",
    "            'Feature': col,\n",
    "            'Chi-Square': chi2,\n",
    "            'p-value': p,\n",
    "            'Degrees of Freedom': dof,\n",
    "            'Significant': significant,\n",
    "            \"Cramer's V\": cramers_v\n",
    "        })\n",
    "    \n",
    "    # Convert results to DataFrame\n",
    "    results_df = pd.DataFrame(results)\n",
    "    \n",
    "    # Display results\n",
    "    print(\"Chi-Square Test Results:\")\n",
    "    display(results_df)\n",
    "    \n",
    "    return results_df\n",
    "\n",
    "\n"
   ]
  },
  {
   "cell_type": "code",
   "execution_count": 34,
   "id": "65a59775",
   "metadata": {},
   "outputs": [
    {
     "name": "stdout",
     "output_type": "stream",
     "text": [
      "Chi-Square Test Results:\n"
     ]
    },
    {
     "data": {
      "text/html": [
       "<div>\n",
       "<style scoped>\n",
       "    .dataframe tbody tr th:only-of-type {\n",
       "        vertical-align: middle;\n",
       "    }\n",
       "\n",
       "    .dataframe tbody tr th {\n",
       "        vertical-align: top;\n",
       "    }\n",
       "\n",
       "    .dataframe thead th {\n",
       "        text-align: right;\n",
       "    }\n",
       "</style>\n",
       "<table border=\"1\" class=\"dataframe\">\n",
       "  <thead>\n",
       "    <tr style=\"text-align: right;\">\n",
       "      <th></th>\n",
       "      <th>Feature</th>\n",
       "      <th>Chi-Square</th>\n",
       "      <th>p-value</th>\n",
       "      <th>Degrees of Freedom</th>\n",
       "      <th>Significant</th>\n",
       "      <th>Cramer's V</th>\n",
       "    </tr>\n",
       "  </thead>\n",
       "  <tbody>\n",
       "    <tr>\n",
       "      <th>0</th>\n",
       "      <td>time_bucket</td>\n",
       "      <td>4815.016276</td>\n",
       "      <td>0.000000e+00</td>\n",
       "      <td>3</td>\n",
       "      <td>True</td>\n",
       "      <td>0.060937</td>\n",
       "    </tr>\n",
       "    <tr>\n",
       "      <th>1</th>\n",
       "      <td>amount_bkt</td>\n",
       "      <td>46303.754281</td>\n",
       "      <td>0.000000e+00</td>\n",
       "      <td>6</td>\n",
       "      <td>True</td>\n",
       "      <td>0.188970</td>\n",
       "    </tr>\n",
       "    <tr>\n",
       "      <th>2</th>\n",
       "      <td>category</td>\n",
       "      <td>6486.003270</td>\n",
       "      <td>0.000000e+00</td>\n",
       "      <td>13</td>\n",
       "      <td>True</td>\n",
       "      <td>0.070725</td>\n",
       "    </tr>\n",
       "    <tr>\n",
       "      <th>3</th>\n",
       "      <td>gender</td>\n",
       "      <td>75.514566</td>\n",
       "      <td>3.627211e-18</td>\n",
       "      <td>1</td>\n",
       "      <td>True</td>\n",
       "      <td>0.007631</td>\n",
       "    </tr>\n",
       "    <tr>\n",
       "      <th>4</th>\n",
       "      <td>population_bkt</td>\n",
       "      <td>6.059791</td>\n",
       "      <td>4.832070e-02</td>\n",
       "      <td>2</td>\n",
       "      <td>True</td>\n",
       "      <td>0.002162</td>\n",
       "    </tr>\n",
       "    <tr>\n",
       "      <th>5</th>\n",
       "      <td>age_bkt</td>\n",
       "      <td>221.945012</td>\n",
       "      <td>7.625344e-48</td>\n",
       "      <td>3</td>\n",
       "      <td>True</td>\n",
       "      <td>0.013083</td>\n",
       "    </tr>\n",
       "  </tbody>\n",
       "</table>\n",
       "</div>"
      ],
      "text/plain": [
       "          Feature    Chi-Square       p-value  Degrees of Freedom  \\\n",
       "0     time_bucket   4815.016276  0.000000e+00                   3   \n",
       "1      amount_bkt  46303.754281  0.000000e+00                   6   \n",
       "2        category   6486.003270  0.000000e+00                  13   \n",
       "3          gender     75.514566  3.627211e-18                   1   \n",
       "4  population_bkt      6.059791  4.832070e-02                   2   \n",
       "5         age_bkt    221.945012  7.625344e-48                   3   \n",
       "\n",
       "   Significant  Cramer's V  \n",
       "0         True    0.060937  \n",
       "1         True    0.188970  \n",
       "2         True    0.070725  \n",
       "3         True    0.007631  \n",
       "4         True    0.002162  \n",
       "5         True    0.013083  "
      ]
     },
     "metadata": {},
     "output_type": "display_data"
    }
   ],
   "source": [
    "\n",
    "# Specify your categorical columns and target\n",
    "categorical_columns = ['time_bucket', 'amount_bkt',\n",
    "       'category', 'gender', 'population_bkt',\n",
    "       'age_bkt']\n",
    "target_column = 'is_fraud'\n",
    "\n",
    "# Run the analysis\n",
    "chi_results = chi_square_test(data, categorical_columns, target_column)"
   ]
  },
  {
   "cell_type": "code",
   "execution_count": 35,
   "id": "71f580e4",
   "metadata": {},
   "outputs": [
    {
     "data": {
      "text/plain": [
       "Index(['trans_num', 'trans_date', 'time_bucket', 'cc_num', 'amount_bkt',\n",
       "       'category', 'gender', 'state', 'latitudinal_distance',\n",
       "       'longitudinal_distance', 'population_bkt', 'age', 'is_fraud',\n",
       "       'age_bkt'],\n",
       "      dtype='object')"
      ]
     },
     "execution_count": 35,
     "metadata": {},
     "output_type": "execute_result"
    }
   ],
   "source": [
    "data.columns"
   ]
  },
  {
   "cell_type": "code",
   "execution_count": 36,
   "id": "c4ce586c",
   "metadata": {},
   "outputs": [],
   "source": [
    "data.to_csv(\"..//data//cleaned_data//train_raw2.csv\")"
   ]
  },
  {
   "cell_type": "code",
   "execution_count": null,
   "id": "02923605",
   "metadata": {},
   "outputs": [],
   "source": []
  }
 ],
 "metadata": {
  "kernelspec": {
   "display_name": "base",
   "language": "python",
   "name": "python3"
  },
  "language_info": {
   "codemirror_mode": {
    "name": "ipython",
    "version": 3
   },
   "file_extension": ".py",
   "mimetype": "text/x-python",
   "name": "python",
   "nbconvert_exporter": "python",
   "pygments_lexer": "ipython3",
   "version": "3.11.3"
  }
 },
 "nbformat": 4,
 "nbformat_minor": 5
}
